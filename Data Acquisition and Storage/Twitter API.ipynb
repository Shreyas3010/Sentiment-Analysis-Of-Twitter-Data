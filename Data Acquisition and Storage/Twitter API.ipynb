{
 "cells": [
  {
   "cell_type": "code",
   "execution_count": null,
   "metadata": {},
   "outputs": [],
   "source": [
    "import tweepy\n",
    "from py2neo import Graph\n",
    "from py2neo import Node, Relationship\n",
    "\n",
    "\n",
    "### Change the graph requirements if necessary\n",
    "\n",
    "graph = Graph(\"bolt://localhost:7687\", user=\"neo4j\", password=\"123\")\n",
    "\n",
    "'''\n",
    "\n",
    "This is sample code for Twitter API. You need to create an account on developer.twitter.com to Generate these API keys.\n",
    "Only after that you will be able to use the Twitter API\n",
    "\n",
    "auth = tweepy.OAuthHandler(\"lxaAckeLc9H26daswqekbeoBAUCJ\", \"Xw3PcTagj2C94SatmCNzlTKXo9O0h0odafgSpwJPp9yz5ec8z74oh\")\n",
    "auth.set_access_token(\"1078337572277899264-CCVbwGadasdadawHpsZgdnVn41ftsGYzIzG7P4\", \"QvqrQaDiVAI0cE12332afXLC3WR26dX7g40n3tdasd4AM4gH6YV0f\")\n",
    "\n",
    "\n",
    "'''\n",
    "\n",
    "auth = tweepy.OAuthHandler(\"<Insert your token here>\", \"<Insert your token here>\")\n",
    "auth.set_access_token(\"<Insert your token here>\", \"<Insert your token here>\")\n",
    "\n",
    "api = tweepy.API(auth)\n",
    "\n",
    "\n",
    "### Change the path for file as required\n",
    "\n",
    "f = open('C:/Users/Lenovo/Desktop/Projects/Final Year Project/twitter_handles')\n",
    "user_names = f.read().split('\\n')\n",
    "user_names = list(dict.fromkeys(user_names))\n",
    "\n",
    "for user_name in user_names:\n",
    "    try:\n",
    "        user = api.get_user(user_name)\n",
    "        user_node = Node(\"User\", screen_name = user.screen_name, name=user.name)\n",
    "        graph.merge(user_node, \"User\", \"screen_name\")\n",
    "        tweets = api.user_timeline(user.screen_name)\n",
    "        for tweet in tweets:\n",
    "            tweet_node = Node(\"Tweet\", text = repr(tweet.text), time = tweet.created_at.isoformat())\n",
    "            graph.merge(tweet_node, \"Tweet\", \"text\")\n",
    "            user_tweet = Relationship(user_node, \"TWEETS\", tweet_node)\n",
    "            graph.create(user_tweet)\n",
    "        print(user.screen_name)\n",
    "    except:\n",
    "        pass\n"
   ]
  }
 ],
 "metadata": {
  "kernelspec": {
   "display_name": "Python 3",
   "language": "python",
   "name": "python3"
  },
  "language_info": {
   "codemirror_mode": {
    "name": "ipython",
    "version": 3
   },
   "file_extension": ".py",
   "mimetype": "text/x-python",
   "name": "python",
   "nbconvert_exporter": "python",
   "pygments_lexer": "ipython3",
   "version": "3.7.7"
  }
 },
 "nbformat": 4,
 "nbformat_minor": 2
}
